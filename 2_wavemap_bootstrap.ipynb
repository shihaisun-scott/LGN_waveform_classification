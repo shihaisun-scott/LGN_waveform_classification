{
 "cells": [
  {
   "cell_type": "markdown",
   "metadata": {
    "colab_type": "text",
    "id": "view-in-github"
   },
   "source": [
    "<a href=\"https://colab.research.google.com/github/EricKenjiLee/WaveMAP_Paper/blob/main/WaveMAP_Example.ipynb\" target=\"_parent\"><img src=\"https://colab.research.google.com/assets/colab-badge.svg\" alt=\"Open In Colab\"/></a>"
   ]
  },
  {
   "cell_type": "markdown",
   "metadata": {
    "id": "vZ4iROLKzvz8"
   },
   "source": [
    "## Import all packages\n"
   ]
  },
  {
   "cell_type": "code",
   "execution_count": 1,
   "metadata": {
    "id": "_IdxQha2qWBP"
   },
   "outputs": [],
   "source": [
    "import numpy as np\n",
    "from matplotlib import pyplot as plt\n",
    "import pandas as pd\n",
    "import seaborn as sns\n",
    "from sklearn import datasets\n",
    "from PIL import Image\n",
    "from io import BytesIO\n",
    "import base64\n",
    "\n",
    "\n",
    "from bokeh.plotting import figure, show, output_notebook, output_file\n",
    "from bokeh.models import HoverTool, ColumnDataSource, CategoricalColorMapper, ContinuousColorMapper\n",
    "from bokeh.palettes import Turbo256\n",
    "from bokeh.transform import linear_cmap\n",
    "from bokeh.transform import factor_cmap\n",
    "\n",
    "# from scipy.io import loadmat\n",
    "\n",
    "from os.path import dirname, join as pjoin\n",
    "import scipy.io as sio\n",
    "\n",
    "from umap import umap_ as umap\n",
    "import networkx as nx\n",
    "import igraph as ig\n",
    "\n",
    "import matplotlib.pyplot as plt"
   ]
  },
  {
   "cell_type": "markdown",
   "metadata": {
    "id": "jqA7vl9Uz3z-"
   },
   "source": [
    "## ECG needs to be defined and added manually to iGraph"
   ]
  },
  {
   "cell_type": "code",
   "execution_count": 3,
   "metadata": {
    "id": "alie_AJHp1ym"
   },
   "outputs": [],
   "source": [
    "def community_ecg(self, weights=None, ens_size=16, min_weight=0.05):\n",
    "    W = [0]*self.ecount()\n",
    "    ## Ensemble of level-1 Louvain \n",
    "    for i in range(ens_size):\n",
    "        p = np.random.permutation(self.vcount()).tolist()\n",
    "        g = self.permute_vertices(p)\n",
    "        l = g.community_multilevel(weights=weights, return_levels=True)[0].membership\n",
    "        b = [l[p[x.tuple[0]]]==l[p[x.tuple[1]]] for x in self.es]\n",
    "        W = [W[i]+b[i] for i in range(len(W))]\n",
    "    W = [min_weight + (1-min_weight)*W[i]/ens_size for i in range(len(W))]\n",
    "    ## Force min_weight outside 2-core\n",
    "    core = self.shell_index()\n",
    "    ecore = [min(core[x.tuple[0]],core[x.tuple[1]]) for x in self.es]\n",
    "    w = [W[i] if ecore[i]>1 else min_weight for i in range(len(ecore))]\n",
    "    part = self.community_multilevel(weights=w)\n",
    "    part.W = w\n",
    "    part.CSI = 1-2*np.sum([min(1-i,i) for i in w])/len(w)\n",
    "    return part\n",
    "\n",
    "ig.Graph.community_ecg = community_ecg"
   ]
  },
  {
   "cell_type": "markdown",
   "metadata": {
    "id": "d4xmDNue0CUd"
   },
   "source": [
    "## Loading the waveform data"
   ]
  },
  {
   "cell_type": "code",
   "execution_count": 4,
   "metadata": {
    "id": "imFWrVmXrfbg"
   },
   "outputs": [
    {
     "data": {
      "text/plain": [
       "(363, 181)"
      ]
     },
     "execution_count": 4,
     "metadata": {},
     "output_type": "execute_result"
    }
   ],
   "source": [
    "data_dir = 'data'\n",
    "\n",
    "mat_fname = pjoin(data_dir, 'waveforms_mean.mat')\n",
    "fmnist = sio.loadmat(mat_fname)\n",
    "fmnist_subset = fmnist[\"waveforms_mean\"]\n"
   ]
  },
  {
   "cell_type": "markdown",
   "metadata": {},
   "source": [
    "## Bootstrap UMAP to get confidence score"
   ]
  },
  {
   "cell_type": "code",
   "execution_count": 5,
   "metadata": {},
   "outputs": [
    {
     "ename": "NameError",
     "evalue": "name 'resample' is not defined",
     "output_type": "error",
     "traceback": [
      "\u001b[1;31m---------------------------------------------------------------------------\u001b[0m",
      "\u001b[1;31mNameError\u001b[0m                                 Traceback (most recent call last)",
      "\u001b[1;32m~\\AppData\\Local\\Temp/ipykernel_18444/2246653116.py\u001b[0m in \u001b[0;36m<module>\u001b[1;34m\u001b[0m\n\u001b[0;32m      7\u001b[0m \u001b[1;32mfor\u001b[0m \u001b[0m_\u001b[0m \u001b[1;32min\u001b[0m \u001b[0mrange\u001b[0m\u001b[1;33m(\u001b[0m\u001b[0mn_bootstraps\u001b[0m\u001b[1;33m)\u001b[0m\u001b[1;33m:\u001b[0m\u001b[1;33m\u001b[0m\u001b[1;33m\u001b[0m\u001b[0m\n\u001b[0;32m      8\u001b[0m     \u001b[1;31m# Resample 80% of the data\u001b[0m\u001b[1;33m\u001b[0m\u001b[1;33m\u001b[0m\u001b[1;33m\u001b[0m\u001b[0m\n\u001b[1;32m----> 9\u001b[1;33m     \u001b[0msubset\u001b[0m\u001b[1;33m,\u001b[0m \u001b[0m_\u001b[0m \u001b[1;33m=\u001b[0m \u001b[0mresample\u001b[0m\u001b[1;33m(\u001b[0m\u001b[0mfmnist_subset\u001b[0m\u001b[1;33m,\u001b[0m \u001b[0mn_samples\u001b[0m\u001b[1;33m=\u001b[0m\u001b[0mint\u001b[0m\u001b[1;33m(\u001b[0m\u001b[1;36m0.8\u001b[0m \u001b[1;33m*\u001b[0m \u001b[0mlen\u001b[0m\u001b[1;33m(\u001b[0m\u001b[0mfmnist_subset\u001b[0m\u001b[1;33m)\u001b[0m\u001b[1;33m)\u001b[0m\u001b[1;33m,\u001b[0m \u001b[0mreplace\u001b[0m\u001b[1;33m=\u001b[0m\u001b[1;32mFalse\u001b[0m\u001b[1;33m)\u001b[0m\u001b[1;33m\u001b[0m\u001b[1;33m\u001b[0m\u001b[0m\n\u001b[0m\u001b[0;32m     10\u001b[0m \u001b[1;33m\u001b[0m\u001b[0m\n\u001b[0;32m     11\u001b[0m     \u001b[1;31m# UMAP dimensionality reduction\u001b[0m\u001b[1;33m\u001b[0m\u001b[1;33m\u001b[0m\u001b[1;33m\u001b[0m\u001b[0m\n",
      "\u001b[1;31mNameError\u001b[0m: name 'resample' is not defined"
     ]
    }
   ],
   "source": [
    "# Define the number of bootstraps\n",
    "n_bootstraps = 100\n",
    "confidence_scores = np.zeros((fmnist_subset.shape[0],))\n",
    "cluster_counts = []\n",
    "\n",
    "# Bootstrap clustering\n",
    "for _ in range(n_bootstraps):\n",
    "    # Resample 80% of the data\n",
    "    subset, _ = resample(fmnist_subset, n_samples=int(0.8 * len(fmnist_subset)), replace=False)\n",
    "    \n",
    "    # UMAP dimensionality reduction\n",
    "    reducer = umap.UMAP(random_state=42)\n",
    "    embedding = reducer.fit_transform(subset)\n",
    "    \n",
    "    # Convert UMAP graph to NetworkX graph and then to igraph\n",
    "    G = nx.from_scipy_sparse_matrix(reducer.graph_)\n",
    "    umap_igraph = ig.Graph(len(G), list(zip(*list(zip(*nx.to_edgelist(G)))[:2])))\n",
    "    \n",
    "    # Perform ECG community detection\n",
    "    umap_ECG = umap_igraph.community_ecg(ens_size=10, min_weight=0.5)\n",
    "    \n",
    "    # Assign clusters back to the original dataset\n",
    "    full_cluster_assignment = np.zeros(fmnist_subset.shape[0], dtype=int) - 1\n",
    "    full_cluster_assignment[:len(umap_ECG.membership)] = umap_ECG.membership\n",
    "    \n",
    "    # Update confidence scores\n",
    "    for idx in range(fmnist_subset.shape[0]):\n",
    "        if full_cluster_assignment[idx] != -1:\n",
    "            confidence_scores[idx] += (confidence_scores[idx] == full_cluster_assignment[idx])\n",
    "    \n",
    "    # Track the number of clusters\n",
    "    cluster_counts.append(len(set(umap_ECG.membership)))\n",
    "\n",
    "# Calculate final confidence scores\n",
    "confidence_scores /= n_bootstraps\n"
   ]
  },
  {
   "cell_type": "markdown",
   "metadata": {},
   "source": [
    "### Plot results"
   ]
  },
  {
   "cell_type": "code",
   "execution_count": null,
   "metadata": {},
   "outputs": [],
   "source": [
    "# Plot confidence scores for cells\n",
    "plt.figure(figsize=(10, 6))\n",
    "sns.histplot(confidence_scores, bins=30, kde=True)\n",
    "plt.title('Confidence Scores for Cell Clustering')\n",
    "plt.xlabel('Confidence Score')\n",
    "plt.ylabel('Frequency')\n",
    "plt.show()\n",
    "\n",
    "# Plot confidence scores for the number of clusters\n",
    "plt.figure(figsize=(10, 6))\n",
    "sns.histplot(cluster_counts, bins=30, kde=True)\n",
    "plt.title('Confidence Scores for Number of Clusters')\n",
    "plt.xlabel('Number of Clusters')\n",
    "plt.ylabel('Frequency')\n",
    "plt.show()"
   ]
  },
  {
   "cell_type": "markdown",
   "metadata": {},
   "source": [
    "### Save confidence scores"
   ]
  },
  {
   "cell_type": "code",
   "execution_count": null,
   "metadata": {},
   "outputs": [],
   "source": [
    "# Save the confidence scores to a CSV file\n",
    "confidence_df = pd.DataFrame({\n",
    "    'cell_index': np.arange(fmnist_subset.shape[0]),\n",
    "    'confidence_score': confidence_scores\n",
    "})\n",
    "confidence_df.to_csv('analysis_output/confidence_scores.csv', index=False)"
   ]
  }
 ],
 "metadata": {
  "colab": {
   "authorship_tag": "ABX9TyN8x2dFdp0oDOnIIRKXAgKm",
   "include_colab_link": true,
   "name": "WaveMAP_Example.ipynb",
   "provenance": []
  },
  "kernelspec": {
   "display_name": "Python 3",
   "language": "python",
   "name": "python3"
  },
  "language_info": {
   "codemirror_mode": {
    "name": "ipython",
    "version": 3
   },
   "file_extension": ".py",
   "mimetype": "text/x-python",
   "name": "python",
   "nbconvert_exporter": "python",
   "pygments_lexer": "ipython3",
   "version": "3.8.5"
  }
 },
 "nbformat": 4,
 "nbformat_minor": 1
}
